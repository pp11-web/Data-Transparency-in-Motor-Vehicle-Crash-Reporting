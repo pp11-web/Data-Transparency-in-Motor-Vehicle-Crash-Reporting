{
 "cells": [
  {
   "cell_type": "code",
   "execution_count": 1,
   "id": "74562865",
   "metadata": {},
   "outputs": [],
   "source": [
    "import pandas as pd\n",
    "import matplotlib.pyplot as plt\n",
    "import seaborn as sns"
   ]
  },
  {
   "cell_type": "code",
   "execution_count": 4,
   "id": "5c1cc7e6",
   "metadata": {},
   "outputs": [],
   "source": [
    "csvl = pd.read_csv(\"cleaned_location_1.csv\")\n",
    "csvv = pd.read_csv(\"cleaned_vehicles_1.csv\")\n",
    "csvc = pd.read_csv(\"cleaned_contributing_1.csv\")\n",
    "csvca = pd.read_csv(\"cleaned_casualty_1.csv\")\n",
    "# Merge dataframes on 'collision_id'\n",
    "merged_data = pd.merge(csvl, csvv, on='collision_id')\n",
    "merged_data = pd.merge(merged_data, csvc, on='collision_id')\n",
    "merged_data = pd.merge(merged_data, csvca, on='collision_id')"
   ]
  },
  {
   "cell_type": "code",
   "execution_count": 5,
   "id": "d20ba761",
   "metadata": {},
   "outputs": [],
   "source": [
    "# Convert crash date to datetime object\n",
    "merged_data['crash date'] = pd.to_datetime(merged_data['crash date'])\n",
    "\n",
    "# Extract year and month from crash date\n",
    "merged_data['year'] = merged_data['crash date'].dt.year\n",
    "merged_data['month'] = merged_data['crash date'].dt.month"
   ]
  },
  {
   "cell_type": "code",
   "execution_count": 6,
   "id": "0f7152d5",
   "metadata": {},
   "outputs": [
    {
     "name": "stdout",
     "output_type": "stream",
     "text": [
      "Requirement already satisfied: folium in c:\\users\\prayag purani\\anaconda3\\lib\\site-packages (0.15.0)\n",
      "Requirement already satisfied: branca>=0.6.0 in c:\\users\\prayag purani\\anaconda3\\lib\\site-packages (from folium) (0.7.0)\n",
      "Requirement already satisfied: requests in c:\\users\\prayag purani\\anaconda3\\lib\\site-packages (from folium) (2.32.3)\n",
      "Requirement already satisfied: numpy in c:\\users\\prayag purani\\anaconda3\\lib\\site-packages (from folium) (1.26.4)\n",
      "Requirement already satisfied: jinja2>=2.9 in c:\\users\\prayag purani\\anaconda3\\lib\\site-packages (from folium) (2.11.3)\n",
      "Requirement already satisfied: MarkupSafe>=0.23 in c:\\users\\prayag purani\\anaconda3\\lib\\site-packages (from jinja2>=2.9->folium) (2.0.1)\n",
      "Requirement already satisfied: certifi>=2017.4.17 in c:\\users\\prayag purani\\anaconda3\\lib\\site-packages (from requests->folium) (2021.10.8)\n",
      "Requirement already satisfied: idna<4,>=2.5 in c:\\users\\prayag purani\\anaconda3\\lib\\site-packages (from requests->folium) (3.3)\n",
      "Requirement already satisfied: charset-normalizer<4,>=2 in c:\\users\\prayag purani\\anaconda3\\lib\\site-packages (from requests->folium) (2.0.4)\n",
      "Requirement already satisfied: urllib3<3,>=1.21.1 in c:\\users\\prayag purani\\anaconda3\\lib\\site-packages (from requests->folium) (1.26.9)\n"
     ]
    },
    {
     "name": "stderr",
     "output_type": "stream",
     "text": [
      "WARNING: Ignoring invalid distribution -illow (c:\\users\\prayag purani\\anaconda3\\lib\\site-packages)\n",
      "WARNING: Ignoring invalid distribution -illow (c:\\users\\prayag purani\\anaconda3\\lib\\site-packages)\n",
      "WARNING: Ignoring invalid distribution -illow (c:\\users\\prayag purani\\anaconda3\\lib\\site-packages)\n",
      "WARNING: Ignoring invalid distribution -illow (c:\\users\\prayag purani\\anaconda3\\lib\\site-packages)\n",
      "WARNING: Ignoring invalid distribution -illow (c:\\users\\prayag purani\\anaconda3\\lib\\site-packages)\n",
      "WARNING: Ignoring invalid distribution -illow (c:\\users\\prayag purani\\anaconda3\\lib\\site-packages)\n"
     ]
    }
   ],
   "source": [
    "!pip install folium"
   ]
  },
  {
   "cell_type": "code",
   "execution_count": 7,
   "id": "ac66ee9e",
   "metadata": {},
   "outputs": [],
   "source": [
    "import folium\n",
    "from folium.plugins import MarkerCluster\n",
    "\n",
    "locations = merged_data[['latitude', 'longitude']]"
   ]
  },
  {
   "cell_type": "code",
   "execution_count": 8,
   "id": "7c1f3896",
   "metadata": {},
   "outputs": [],
   "source": [
    "map_center = [locations['latitude'].mean(), locations['longitude'].mean()]\n",
    "mymap = folium.Map(location=map_center, zoom_start=10)"
   ]
  },
  {
   "cell_type": "code",
   "execution_count": 9,
   "id": "2666812e",
   "metadata": {},
   "outputs": [],
   "source": [
    "marker_cluster = MarkerCluster().add_to(mymap)\n",
    "for index, location_info in locations.iterrows():\n",
    "    folium.Marker([location_info['latitude'], location_info['longitude']]).add_to(marker_cluster)"
   ]
  },
  {
   "cell_type": "code",
   "execution_count": 10,
   "id": "bf0e06ff",
   "metadata": {},
   "outputs": [],
   "source": [
    "# Save the map to an HTML file or display it in Jupyter Notebook\n",
    "mymap.save('collision_map.html')"
   ]
  },
  {
   "cell_type": "code",
   "execution_count": 12,
   "id": "4ee92100",
   "metadata": {},
   "outputs": [],
   "source": [
    "#mymap"
   ]
  },
  {
   "cell_type": "code",
   "execution_count": null,
   "id": "93e7c2cf",
   "metadata": {},
   "outputs": [],
   "source": []
  }
 ],
 "metadata": {
  "kernelspec": {
   "display_name": "Python 3 (ipykernel)",
   "language": "python",
   "name": "python3"
  },
  "language_info": {
   "codemirror_mode": {
    "name": "ipython",
    "version": 3
   },
   "file_extension": ".py",
   "mimetype": "text/x-python",
   "name": "python",
   "nbconvert_exporter": "python",
   "pygments_lexer": "ipython3",
   "version": "3.9.12"
  }
 },
 "nbformat": 4,
 "nbformat_minor": 5
}
