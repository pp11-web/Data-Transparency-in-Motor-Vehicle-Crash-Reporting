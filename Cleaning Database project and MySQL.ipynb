{
 "cells": [
  {
   "cell_type": "code",
   "execution_count": 1,
   "id": "689794cc",
   "metadata": {},
   "outputs": [],
   "source": [
    "import pandas as pd\n",
    "import numpy as np"
   ]
  },
  {
   "cell_type": "markdown",
   "id": "b3d46c9a",
   "metadata": {},
   "source": [
    "# Importing Dataset"
   ]
  },
  {
   "cell_type": "code",
   "execution_count": 2,
   "id": "5feff328",
   "metadata": {},
   "outputs": [],
   "source": [
    "motor = pd.read_csv('Motor.csv')"
   ]
  },
  {
   "cell_type": "code",
   "execution_count": 3,
   "id": "e69e47ae",
   "metadata": {},
   "outputs": [
    {
     "name": "stdout",
     "output_type": "stream",
     "text": [
      "<class 'pandas.core.frame.DataFrame'>\n",
      "RangeIndex: 1048575 entries, 0 to 1048574\n",
      "Data columns (total 29 columns):\n",
      " #   Column                         Non-Null Count    Dtype  \n",
      "---  ------                         --------------    -----  \n",
      " 0   CRASH DATE                     1048575 non-null  object \n",
      " 1   CRASH TIME                     1048575 non-null  object \n",
      " 2   BOROUGH                        671910 non-null   object \n",
      " 3   ZIP CODE                       671726 non-null   float64\n",
      " 4   LATITUDE                       973773 non-null   float64\n",
      " 5   LONGITUDE                      973773 non-null   float64\n",
      " 6   LOCATION                       973773 non-null   object \n",
      " 7   ON STREET NAME                 791561 non-null   object \n",
      " 8   CROSS STREET NAME              505581 non-null   object \n",
      " 9   OFF STREET NAME                255686 non-null   object \n",
      " 10  NUMBER OF PERSONS INJURED      1048558 non-null  float64\n",
      " 11  NUMBER OF PERSONS KILLED       1048545 non-null  float64\n",
      " 12  NUMBER OF PEDESTRIANS INJURED  1048575 non-null  int64  \n",
      " 13  NUMBER OF PEDESTRIANS KILLED   1048575 non-null  int64  \n",
      " 14  NUMBER OF CYCLIST INJURED      1048575 non-null  int64  \n",
      " 15  NUMBER OF CYCLIST KILLED       1048575 non-null  int64  \n",
      " 16  NUMBER OF MOTORIST INJURED     1048575 non-null  int64  \n",
      " 17  NUMBER OF MOTORIST KILLED      1048575 non-null  int64  \n",
      " 18  CONTRIBUTING FACTOR VEHICLE 1  1044829 non-null  object \n",
      " 19  CONTRIBUTING FACTOR VEHICLE 2  870100 non-null   object \n",
      " 20  CONTRIBUTING FACTOR VEHICLE 3  77589 non-null    object \n",
      " 21  CONTRIBUTING FACTOR VEHICLE 4  18048 non-null    object \n",
      " 22  CONTRIBUTING FACTOR VEHICLE 5  5036 non-null     object \n",
      " 23  COLLISION_ID                   1048575 non-null  int64  \n",
      " 24  VEHICLE TYPE CODE 1            1039916 non-null  object \n",
      " 25  VEHICLE TYPE CODE 2            799608 non-null   object \n",
      " 26  VEHICLE TYPE CODE 3            73175 non-null    object \n",
      " 27  VEHICLE TYPE CODE 4            17146 non-null    object \n",
      " 28  VEHICLE TYPE CODE 5            4834 non-null     object \n",
      "dtypes: float64(5), int64(7), object(17)\n",
      "memory usage: 232.0+ MB\n"
     ]
    }
   ],
   "source": [
    "motor.info()"
   ]
  },
  {
   "cell_type": "markdown",
   "id": "4e2d835f",
   "metadata": {},
   "source": [
    "# Normalization of the data"
   ]
  },
  {
   "cell_type": "code",
   "execution_count": 4,
   "id": "682afe77",
   "metadata": {},
   "outputs": [],
   "source": [
    "# first file contains the location of the crash\n",
    "location = motor.iloc[:,0:10]"
   ]
  },
  {
   "cell_type": "code",
   "execution_count": 5,
   "id": "845da1ea",
   "metadata": {},
   "outputs": [],
   "source": [
    "location[\"COLLISION_ID\"] = motor.iloc[:,23]"
   ]
  },
  {
   "cell_type": "code",
   "execution_count": 6,
   "id": "ffcb5830",
   "metadata": {},
   "outputs": [
    {
     "name": "stdout",
     "output_type": "stream",
     "text": [
      "<class 'pandas.core.frame.DataFrame'>\n",
      "RangeIndex: 1048575 entries, 0 to 1048574\n",
      "Data columns (total 11 columns):\n",
      " #   Column             Non-Null Count    Dtype  \n",
      "---  ------             --------------    -----  \n",
      " 0   CRASH DATE         1048575 non-null  object \n",
      " 1   CRASH TIME         1048575 non-null  object \n",
      " 2   BOROUGH            671910 non-null   object \n",
      " 3   ZIP CODE           671726 non-null   float64\n",
      " 4   LATITUDE           973773 non-null   float64\n",
      " 5   LONGITUDE          973773 non-null   float64\n",
      " 6   LOCATION           973773 non-null   object \n",
      " 7   ON STREET NAME     791561 non-null   object \n",
      " 8   CROSS STREET NAME  505581 non-null   object \n",
      " 9   OFF STREET NAME    255686 non-null   object \n",
      " 10  COLLISION_ID       1048575 non-null  int64  \n",
      "dtypes: float64(3), int64(1), object(7)\n",
      "memory usage: 88.0+ MB\n"
     ]
    }
   ],
   "source": [
    "location.info()"
   ]
  },
  {
   "cell_type": "code",
   "execution_count": 7,
   "id": "055a9fd0",
   "metadata": {},
   "outputs": [],
   "source": [
    "# second file contains casualty for each accident\n",
    "casualty = motor.iloc[:,10:18]\n",
    "casualty[\"COLLISION_ID\"] = motor.iloc[:,23]"
   ]
  },
  {
   "cell_type": "code",
   "execution_count": 8,
   "id": "68663251",
   "metadata": {},
   "outputs": [
    {
     "name": "stdout",
     "output_type": "stream",
     "text": [
      "<class 'pandas.core.frame.DataFrame'>\n",
      "RangeIndex: 1048575 entries, 0 to 1048574\n",
      "Data columns (total 9 columns):\n",
      " #   Column                         Non-Null Count    Dtype  \n",
      "---  ------                         --------------    -----  \n",
      " 0   NUMBER OF PERSONS INJURED      1048558 non-null  float64\n",
      " 1   NUMBER OF PERSONS KILLED       1048545 non-null  float64\n",
      " 2   NUMBER OF PEDESTRIANS INJURED  1048575 non-null  int64  \n",
      " 3   NUMBER OF PEDESTRIANS KILLED   1048575 non-null  int64  \n",
      " 4   NUMBER OF CYCLIST INJURED      1048575 non-null  int64  \n",
      " 5   NUMBER OF CYCLIST KILLED       1048575 non-null  int64  \n",
      " 6   NUMBER OF MOTORIST INJURED     1048575 non-null  int64  \n",
      " 7   NUMBER OF MOTORIST KILLED      1048575 non-null  int64  \n",
      " 8   COLLISION_ID                   1048575 non-null  int64  \n",
      "dtypes: float64(2), int64(7)\n",
      "memory usage: 72.0 MB\n"
     ]
    }
   ],
   "source": [
    "casualty.info()"
   ]
  },
  {
   "cell_type": "code",
   "execution_count": 9,
   "id": "ad62f211",
   "metadata": {},
   "outputs": [],
   "source": [
    "# thrird file contains the type of vehicles include in the crash\n",
    "vehicles = motor.iloc[:,24:29]\n",
    "vehicles[\"COLLISION_ID\"] = motor.iloc[:,23]"
   ]
  },
  {
   "cell_type": "code",
   "execution_count": 10,
   "id": "542d7ca9",
   "metadata": {},
   "outputs": [
    {
     "name": "stdout",
     "output_type": "stream",
     "text": [
      "<class 'pandas.core.frame.DataFrame'>\n",
      "RangeIndex: 1048575 entries, 0 to 1048574\n",
      "Data columns (total 6 columns):\n",
      " #   Column               Non-Null Count    Dtype \n",
      "---  ------               --------------    ----- \n",
      " 0   VEHICLE TYPE CODE 1  1039916 non-null  object\n",
      " 1   VEHICLE TYPE CODE 2  799608 non-null   object\n",
      " 2   VEHICLE TYPE CODE 3  73175 non-null    object\n",
      " 3   VEHICLE TYPE CODE 4  17146 non-null    object\n",
      " 4   VEHICLE TYPE CODE 5  4834 non-null     object\n",
      " 5   COLLISION_ID         1048575 non-null  int64 \n",
      "dtypes: int64(1), object(5)\n",
      "memory usage: 48.0+ MB\n"
     ]
    }
   ],
   "source": [
    "vehicles.info()"
   ]
  },
  {
   "cell_type": "code",
   "execution_count": 11,
   "id": "443c6ba2",
   "metadata": {},
   "outputs": [],
   "source": [
    "# fourth file CONTRIBUTING FACTOR\n",
    "contributing = motor.iloc[:,18:24]"
   ]
  },
  {
   "cell_type": "code",
   "execution_count": 12,
   "id": "5b604cb6",
   "metadata": {},
   "outputs": [
    {
     "name": "stdout",
     "output_type": "stream",
     "text": [
      "<class 'pandas.core.frame.DataFrame'>\n",
      "RangeIndex: 1048575 entries, 0 to 1048574\n",
      "Data columns (total 6 columns):\n",
      " #   Column                         Non-Null Count    Dtype \n",
      "---  ------                         --------------    ----- \n",
      " 0   CONTRIBUTING FACTOR VEHICLE 1  1044829 non-null  object\n",
      " 1   CONTRIBUTING FACTOR VEHICLE 2  870100 non-null   object\n",
      " 2   CONTRIBUTING FACTOR VEHICLE 3  77589 non-null    object\n",
      " 3   CONTRIBUTING FACTOR VEHICLE 4  18048 non-null    object\n",
      " 4   CONTRIBUTING FACTOR VEHICLE 5  5036 non-null     object\n",
      " 5   COLLISION_ID                   1048575 non-null  int64 \n",
      "dtypes: int64(1), object(5)\n",
      "memory usage: 48.0+ MB\n"
     ]
    }
   ],
   "source": [
    "contributing.info()"
   ]
  },
  {
   "cell_type": "markdown",
   "id": "5eb66b48",
   "metadata": {},
   "source": [
    "# Cleaning of location df "
   ]
  },
  {
   "cell_type": "code",
   "execution_count": 13,
   "id": "8d2819cd",
   "metadata": {},
   "outputs": [],
   "source": [
    "# So in location as we have latitde and longitude so we don't need borough,zip code,street name,cross street name and off street name\n",
    "location = location.drop(columns=['BOROUGH', 'ZIP CODE', 'ON STREET NAME', 'CROSS STREET NAME', 'OFF STREET NAME','LOCATION'])"
   ]
  },
  {
   "cell_type": "code",
   "execution_count": 19,
   "id": "e3e33d77",
   "metadata": {},
   "outputs": [],
   "source": [
    "# Date format in the file is not consistant so its very important to convert it to a same date object\n",
    "#location['CRASH DATE'] = pd.to_datetime(location['CRASH DATE'])\n",
    "#location['CRASH TIME'] = pd.to_datetime(location['CRASH TIME'])"
   ]
  },
  {
   "cell_type": "code",
   "execution_count": 20,
   "id": "47d4f69f",
   "metadata": {},
   "outputs": [],
   "source": [
    "# Removing if any duplicates are present not using the collision-id\n",
    "location.drop_duplicates(subset=['COLLISION_ID'], keep='first', inplace=True)"
   ]
  },
  {
   "cell_type": "code",
   "execution_count": 21,
   "id": "d791107c",
   "metadata": {},
   "outputs": [
    {
     "name": "stdout",
     "output_type": "stream",
     "text": [
      "<class 'pandas.core.frame.DataFrame'>\n",
      "Int64Index: 1048575 entries, 0 to 1048574\n",
      "Data columns (total 5 columns):\n",
      " #   Column        Non-Null Count    Dtype  \n",
      "---  ------        --------------    -----  \n",
      " 0   CRASH DATE    1048575 non-null  object \n",
      " 1   CRASH TIME    1048575 non-null  object \n",
      " 2   LATITUDE      973773 non-null   float64\n",
      " 3   LONGITUDE     973773 non-null   float64\n",
      " 4   COLLISION_ID  1048575 non-null  int64  \n",
      "dtypes: float64(2), int64(1), object(2)\n",
      "memory usage: 48.0+ MB\n"
     ]
    }
   ],
   "source": [
    "location.info()"
   ]
  },
  {
   "cell_type": "code",
   "execution_count": 22,
   "id": "6fd34485",
   "metadata": {},
   "outputs": [
    {
     "data": {
      "text/plain": [
       "74802"
      ]
     },
     "execution_count": 22,
     "metadata": {},
     "output_type": "execute_result"
    }
   ],
   "source": [
    "#############################################################################??????????????????????????????????????????????\n",
    "1048575 - 973773"
   ]
  },
  {
   "cell_type": "markdown",
   "id": "2a118df8",
   "metadata": {},
   "source": [
    "# Cleaning of casualty dataframe"
   ]
  },
  {
   "cell_type": "code",
   "execution_count": 23,
   "id": "ba24cff5",
   "metadata": {},
   "outputs": [
    {
     "name": "stdout",
     "output_type": "stream",
     "text": [
      "<class 'pandas.core.frame.DataFrame'>\n",
      "RangeIndex: 1048575 entries, 0 to 1048574\n",
      "Data columns (total 9 columns):\n",
      " #   Column                         Non-Null Count    Dtype  \n",
      "---  ------                         --------------    -----  \n",
      " 0   NUMBER OF PERSONS INJURED      1048558 non-null  float64\n",
      " 1   NUMBER OF PERSONS KILLED       1048545 non-null  float64\n",
      " 2   NUMBER OF PEDESTRIANS INJURED  1048575 non-null  int64  \n",
      " 3   NUMBER OF PEDESTRIANS KILLED   1048575 non-null  int64  \n",
      " 4   NUMBER OF CYCLIST INJURED      1048575 non-null  int64  \n",
      " 5   NUMBER OF CYCLIST KILLED       1048575 non-null  int64  \n",
      " 6   NUMBER OF MOTORIST INJURED     1048575 non-null  int64  \n",
      " 7   NUMBER OF MOTORIST KILLED      1048575 non-null  int64  \n",
      " 8   COLLISION_ID                   1048575 non-null  int64  \n",
      "dtypes: float64(2), int64(7)\n",
      "memory usage: 72.0 MB\n"
     ]
    }
   ],
   "source": [
    "# everything looks good in this file\n",
    "casualty.info()"
   ]
  },
  {
   "cell_type": "markdown",
   "id": "8e6561b6",
   "metadata": {},
   "source": [
    "# Cleaning of vehicles dataframe"
   ]
  },
  {
   "cell_type": "code",
   "execution_count": 24,
   "id": "f206c5bf",
   "metadata": {},
   "outputs": [
    {
     "name": "stdout",
     "output_type": "stream",
     "text": [
      "<class 'pandas.core.frame.DataFrame'>\n",
      "RangeIndex: 1048575 entries, 0 to 1048574\n",
      "Data columns (total 6 columns):\n",
      " #   Column               Non-Null Count    Dtype \n",
      "---  ------               --------------    ----- \n",
      " 0   VEHICLE TYPE CODE 1  1039916 non-null  object\n",
      " 1   VEHICLE TYPE CODE 2  799608 non-null   object\n",
      " 2   VEHICLE TYPE CODE 3  73175 non-null    object\n",
      " 3   VEHICLE TYPE CODE 4  17146 non-null    object\n",
      " 4   VEHICLE TYPE CODE 5  4834 non-null     object\n",
      " 5   COLLISION_ID         1048575 non-null  int64 \n",
      "dtypes: int64(1), object(5)\n",
      "memory usage: 48.0+ MB\n"
     ]
    }
   ],
   "source": [
    "vehicles.info()"
   ]
  },
  {
   "cell_type": "code",
   "execution_count": 25,
   "id": "98320cd9",
   "metadata": {},
   "outputs": [],
   "source": [
    "# Impute missing values in 'VEHICLE TYPE CODE 1','VEHICLE TYPE CODE 2' and 'VEHICLE TYPE CODE 3'\n",
    "vehicles['VEHICLE TYPE CODE 1'].fillna(vehicles['VEHICLE TYPE CODE 1'].mode()[0], inplace=True)\n",
    "vehicles['VEHICLE TYPE CODE 2'].fillna(vehicles['VEHICLE TYPE CODE 2'].mode()[0], inplace=True)\n",
    "vehicles['VEHICLE TYPE CODE 3'].fillna(vehicles['VEHICLE TYPE CODE 3'].mode()[0], inplace=True)\n",
    "\n",
    "# Drop columns 'VEHICLE TYPE CODE 4', and 'VEHICLE TYPE CODE 5'\n",
    "vehicles.drop(columns=['VEHICLE TYPE CODE 4', 'VEHICLE TYPE CODE 5'], inplace=True)\n",
    "\n",
    "# Check for and remove duplicate rows\n",
    "vehicles = vehicles.drop_duplicates()"
   ]
  },
  {
   "cell_type": "code",
   "execution_count": 26,
   "id": "bd27a5fc",
   "metadata": {},
   "outputs": [
    {
     "name": "stdout",
     "output_type": "stream",
     "text": [
      "<class 'pandas.core.frame.DataFrame'>\n",
      "Int64Index: 1048575 entries, 0 to 1048574\n",
      "Data columns (total 4 columns):\n",
      " #   Column               Non-Null Count    Dtype \n",
      "---  ------               --------------    ----- \n",
      " 0   VEHICLE TYPE CODE 1  1048575 non-null  object\n",
      " 1   VEHICLE TYPE CODE 2  1048575 non-null  object\n",
      " 2   VEHICLE TYPE CODE 3  1048575 non-null  object\n",
      " 3   COLLISION_ID         1048575 non-null  int64 \n",
      "dtypes: int64(1), object(3)\n",
      "memory usage: 40.0+ MB\n"
     ]
    }
   ],
   "source": [
    "vehicles.info()"
   ]
  },
  {
   "cell_type": "markdown",
   "id": "f5066e65",
   "metadata": {},
   "source": [
    "# Cleaning of contributing dataframe"
   ]
  },
  {
   "cell_type": "code",
   "execution_count": 27,
   "id": "917f4cd5",
   "metadata": {},
   "outputs": [
    {
     "name": "stdout",
     "output_type": "stream",
     "text": [
      "<class 'pandas.core.frame.DataFrame'>\n",
      "RangeIndex: 1048575 entries, 0 to 1048574\n",
      "Data columns (total 6 columns):\n",
      " #   Column                         Non-Null Count    Dtype \n",
      "---  ------                         --------------    ----- \n",
      " 0   CONTRIBUTING FACTOR VEHICLE 1  1044829 non-null  object\n",
      " 1   CONTRIBUTING FACTOR VEHICLE 2  870100 non-null   object\n",
      " 2   CONTRIBUTING FACTOR VEHICLE 3  77589 non-null    object\n",
      " 3   CONTRIBUTING FACTOR VEHICLE 4  18048 non-null    object\n",
      " 4   CONTRIBUTING FACTOR VEHICLE 5  5036 non-null     object\n",
      " 5   COLLISION_ID                   1048575 non-null  int64 \n",
      "dtypes: int64(1), object(5)\n",
      "memory usage: 48.0+ MB\n"
     ]
    }
   ],
   "source": [
    "contributing.info()"
   ]
  },
  {
   "cell_type": "code",
   "execution_count": 28,
   "id": "f657be72",
   "metadata": {},
   "outputs": [
    {
     "data": {
      "text/plain": [
       "Driver Inattention/Distraction                           258549\n",
       "Unspecified                                              241848\n",
       "Following Too Closely                                     90999\n",
       "Failure to Yield Right-of-Way                             72183\n",
       "Passing or Lane Usage Improper                            46498\n",
       "Backing Unsafely                                          45505\n",
       "Passing Too Closely                                       42256\n",
       "Unsafe Lane Changing                                      33483\n",
       "Other Vehicular                                           30199\n",
       "Turning Improperly                                        24661\n",
       "Traffic Control Disregarded                               20787\n",
       "Unsafe Speed                                              20670\n",
       "Driver Inexperience                                       17917\n",
       "Reaction to Uninvolved Vehicle                            16703\n",
       "Alcohol Involvement                                       12437\n",
       "Pavement Slippery                                          9635\n",
       "View Obstructed/Limited                                    8697\n",
       "Pedestrian/Bicyclist/Other Pedestrian Error/Confusion      7189\n",
       "Oversized Vehicle                                          6308\n",
       "Aggressive Driving/Road Rage                               5485\n",
       "Brakes Defective                                           3912\n",
       "Fell Asleep                                                3487\n",
       "Passenger Distraction                                      3354\n",
       "Outside Car Distraction                                    2276\n",
       "Obstruction/Debris                                         2204\n",
       "Glare                                                      2114\n",
       "Steering Failure                                           1709\n",
       "Tire Failure/Inadequate                                    1432\n",
       "Failure to Keep Right                                      1334\n",
       "Illnes                                                     1278\n",
       "Pavement Defective                                         1266\n",
       "Lost Consciousness                                         1213\n",
       "Fatigued/Drowsy                                            1168\n",
       "Driverless/Runaway Vehicle                                 1015\n",
       "Animals Action                                              958\n",
       "Drugs (illegal)                                             697\n",
       "Accelerator Defective                                       594\n",
       "Lane Marking Improper/Inadequate                            491\n",
       "Cell Phone (hand-Held)                                      411\n",
       "Traffic Control Device Improper/Non-Working                 408\n",
       "Physical Disability                                         336\n",
       "Other Electronic Device                                     152\n",
       "Tinted Windows                                              122\n",
       "Using On Board Navigation Device                            116\n",
       "Tow Hitch Defective                                         111\n",
       "Other Lighting Defects                                      109\n",
       "Vehicle Vandalism                                           104\n",
       "Eating or Drinking                                          101\n",
       "Prescription Medication                                      99\n",
       "Headlights Defective                                         64\n",
       "Cell Phone (hands-free)                                      50\n",
       "Shoulders Defective/Improper                                 45\n",
       "Texting                                                      40\n",
       "Windshield Inadequate                                        28\n",
       "Listening/Using Headphones                                   18\n",
       "Reaction to Other Uninvolved Vehicle                          3\n",
       "80                                                            1\n",
       "Name: CONTRIBUTING FACTOR VEHICLE 1, dtype: int64"
      ]
     },
     "execution_count": 28,
     "metadata": {},
     "output_type": "execute_result"
    }
   ],
   "source": [
    "contributing['CONTRIBUTING FACTOR VEHICLE 1'].value_counts()"
   ]
  },
  {
   "cell_type": "markdown",
   "id": "c6859ed8",
   "metadata": {},
   "source": [
    "# Save cleaned files"
   ]
  },
  {
   "cell_type": "code",
   "execution_count": 29,
   "id": "1d2c6897",
   "metadata": {},
   "outputs": [],
   "source": [
    "# Save the cleaned dataset to a new file or variable\n",
    "location.to_csv('cleaned_location.csv', index=False)\n",
    "casualty.to_csv('cleaned_casualty.csv', index=False)\n",
    "vehicles.to_csv('cleaned_vehicles.csv', index=False)\n",
    "contributing.to_csv('cleaned_contributing.csv', index=False)"
   ]
  },
  {
   "cell_type": "markdown",
   "id": "3daae8df",
   "metadata": {},
   "source": [
    "# Importing files to SQL"
   ]
  },
  {
   "cell_type": "code",
   "execution_count": 1,
   "id": "c841faa7",
   "metadata": {},
   "outputs": [],
   "source": [
    "import mysql.connector\n",
    "from getpass import getpass"
   ]
  },
  {
   "cell_type": "code",
   "execution_count": 2,
   "id": "2fb8e5dc",
   "metadata": {},
   "outputs": [
    {
     "name": "stdout",
     "output_type": "stream",
     "text": [
      "Enter your MySQL username: root \n",
      "Enter your MySQL password: ········\n"
     ]
    }
   ],
   "source": [
    "username = input(\"Enter your MySQL username: \")\n",
    "password = getpass(\"Enter your MySQL password: \")"
   ]
  },
  {
   "cell_type": "code",
   "execution_count": 3,
   "id": "58ff31a3",
   "metadata": {},
   "outputs": [],
   "source": [
    "host = \"localhost\"  # Change this to your MySQL server hostname or IP address\n",
    "database = \"mysql\"  # Change this to the name of your data"
   ]
  },
  {
   "cell_type": "code",
   "execution_count": 4,
   "id": "b85ccc7f",
   "metadata": {},
   "outputs": [
    {
     "name": "stdout",
     "output_type": "stream",
     "text": [
      "Connected to the MySQL server\n"
     ]
    }
   ],
   "source": [
    "try:\n",
    "    # Establish a connection to the MySQL server\n",
    "    connection = mysql.connector.connect(\n",
    "        host=host,\n",
    "        user=username,\n",
    "        password=password,\n",
    "    )\n",
    "\n",
    "    if connection.is_connected():\n",
    "        print(\"Connected to the MySQL server\")\n",
    "except mysql.connector.Error as e:\n",
    "    print(f\"Error: {e}\")  "
   ]
  },
  {
   "cell_type": "code",
   "execution_count": 5,
   "id": "20ca10e1",
   "metadata": {},
   "outputs": [],
   "source": [
    "mycursor = connection.cursor()"
   ]
  },
  {
   "cell_type": "code",
   "execution_count": 6,
   "id": "82c5f9e7",
   "metadata": {},
   "outputs": [],
   "source": [
    "mycursor.execute(\"use mysql\")"
   ]
  },
  {
   "cell_type": "code",
   "execution_count": 17,
   "id": "27c7472a",
   "metadata": {},
   "outputs": [],
   "source": [
    "mycursor.execute(\"create table location(crash_date date,crash_time varchar(5),latitude varchar(20),longitude varchar(20),collision_id int Not Null,constraint loc_pk primary key(collision_id))\")"
   ]
  },
  {
   "cell_type": "code",
   "execution_count": 18,
   "id": "c551eea7",
   "metadata": {},
   "outputs": [],
   "source": [
    "mycursor.execute(\"create table vehicles(VEHICLE_TYPE_CODE_1 varchar(20), VEHICLE_TYPE_CODE_2 varchar(20), VEHICLE_TYPE_CODE_3 varchar(20),collision_id int Not Null,Constraint foreign key (collision_id) references location(collision_id),constraint veh_pk primary key location(collision_id))\")"
   ]
  },
  {
   "cell_type": "code",
   "execution_count": 19,
   "id": "8b699637",
   "metadata": {},
   "outputs": [],
   "source": [
    "mycursor.execute(\"create table casulty(NUMBER_OF_PERSONS_INJURED FLOAT(3), NUMBER_OF_PERSONS_KILLED FLOAT(3),NUMBER_OF_PEDESTRIANS_INJURED int, NUMBER_OF_PEDESTRIANS_KILLED int, NUMBER_OF_CYCLIST_INJURED int, NUMBER_OF_CYCLIST_KILLED int, NUMBER_OF_MOTORIST_INJURED int, NUMBER_OF_MOTORIST_KILLED int, collision_id int Not Null,Constraint foreign key (collision_id) references location(collision_id),constraint cua_pk primary key(collision_id))\")"
   ]
  },
  {
   "cell_type": "code",
   "execution_count": 21,
   "id": "bdb8a883",
   "metadata": {},
   "outputs": [],
   "source": [
    "mycursor.execute(\"create table contributing(CONTRIBUTING_FACTOR_VEHICLE_1 varchar(50), CONTRIBUTING_FACTOR_VEHICLE_2 varchar(50), CONTRIBUTING_FACTOR_VEHICLE_3 varchar(50), CONTRIBUTING_FACTOR_VEHICLE_4 varchar(50), CONTRIBUTING_FACTOR_VEHICLE_5 varchar(50), collision_id int Not Null,constraint loc_pk primary key(collision_id), Constraint foreign key (collision_id) references location(collison_id)\")"
   ]
  },
  {
   "cell_type": "code",
   "execution_count": 62,
   "id": "a0d65521",
   "metadata": {},
   "outputs": [],
   "source": [
    "\n",
    "sql = \"ALTER TABLE mysql.location MODIFY crash_date VARCHAR(20);\"\n",
    "\n",
    "mycursor.execute(sql)\n",
    "connection.commit()"
   ]
  }
 ],
 "metadata": {
  "kernelspec": {
   "display_name": "Python 3 (ipykernel)",
   "language": "python",
   "name": "python3"
  },
  "language_info": {
   "codemirror_mode": {
    "name": "ipython",
    "version": 3
   },
   "file_extension": ".py",
   "mimetype": "text/x-python",
   "name": "python",
   "nbconvert_exporter": "python",
   "pygments_lexer": "ipython3",
   "version": "3.9.12"
  }
 },
 "nbformat": 4,
 "nbformat_minor": 5
}
